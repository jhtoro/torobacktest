{
 "cells": [
  {
   "cell_type": "code",
   "execution_count": 17,
   "metadata": {},
   "outputs": [],
   "source": [
    "import pandas as pd\n",
    "import numpy as np\n",
    "import matplotlib.pyplot as plt\n",
    "%matplotlib inline\n",
    "symbol = \"all\"\n",
    "test = 0\n",
    "\n",
    "if test:\n",
    "    start = \"2010-01-01\"\n",
    "    end = \"2018-12-30\"\n",
    "else:\n",
    "    start = \"2019-01-01\"\n",
    "    end = \"2019-05-22\"\n",
    "\n",
    "data_path=\"../torodata/data/\"\n",
    "df = pd.read_csv(data_path+symbol+\".csv\", index_col=\"Date\", parse_dates=True)\n",
    "df.drop(columns=['Low','Adj Close'], inplace=True)\n",
    "df = df[start:end]\n",
    "\n",
    "setindex = pd.read_csv(data_path+\"set.csv\", index_col=\"Date\", parse_dates=True)\n",
    "setindex = setindex[start:end]\n",
    "setindex['Setindex_Ret'] = setindex['Close'].pct_change()*100\n",
    "setindex.drop(columns=['Open','High','Low','Close','Adj Close', 'Volume'], inplace=True)\n",
    "df = df.merge(setindex, how='left',left_on = df.index, right_on = setindex.index, left_index=True)\n",
    "df.drop(columns=['key_0'], inplace=True)"
   ]
  },
  {
   "cell_type": "code",
   "execution_count": 18,
   "metadata": {},
   "outputs": [],
   "source": [
    "commission = 0.003\n",
    "df['ClosetoCloseRet'] = (df['Close'].pct_change()*100) - commission\n",
    "df['NetSettleRet'] = ((df['Close']-df['Open'])/df['Open']*100) - commission\n",
    "df['ClosetoOpenRet'] = ((df['Open'].shift(-1) - df['Close'])/df['Close']*100) - commission\n",
    "df['OpentoOpenRet'] = ((df['Open'].shift(-1) - df['Open'])/df['Open']*100) - commission"
   ]
  },
  {
   "cell_type": "code",
   "execution_count": 19,
   "metadata": {},
   "outputs": [
    {
     "data": {
      "text/html": [
       "<div>\n",
       "<style scoped>\n",
       "    .dataframe tbody tr th:only-of-type {\n",
       "        vertical-align: middle;\n",
       "    }\n",
       "\n",
       "    .dataframe tbody tr th {\n",
       "        vertical-align: top;\n",
       "    }\n",
       "\n",
       "    .dataframe thead th {\n",
       "        text-align: right;\n",
       "    }\n",
       "</style>\n",
       "<table border=\"1\" class=\"dataframe\">\n",
       "  <thead>\n",
       "    <tr style=\"text-align: right;\">\n",
       "      <th></th>\n",
       "      <th>Open</th>\n",
       "      <th>High</th>\n",
       "      <th>Close</th>\n",
       "      <th>Volume</th>\n",
       "      <th>Setindex_Ret</th>\n",
       "      <th>ClosetoCloseRet</th>\n",
       "      <th>NetSettleRet</th>\n",
       "      <th>ClosetoOpenRet</th>\n",
       "      <th>OpentoOpenRet</th>\n",
       "    </tr>\n",
       "    <tr>\n",
       "      <th>Date</th>\n",
       "      <th></th>\n",
       "      <th></th>\n",
       "      <th></th>\n",
       "      <th></th>\n",
       "      <th></th>\n",
       "      <th></th>\n",
       "      <th></th>\n",
       "      <th></th>\n",
       "      <th></th>\n",
       "    </tr>\n",
       "  </thead>\n",
       "  <tbody>\n",
       "    <tr>\n",
       "      <th>2019-05-15</th>\n",
       "      <td>4.74</td>\n",
       "      <td>4.80</td>\n",
       "      <td>4.74</td>\n",
       "      <td>4774000</td>\n",
       "      <td>-0.769353</td>\n",
       "      <td>0.420729</td>\n",
       "      <td>-0.003000</td>\n",
       "      <td>0.418941</td>\n",
       "      <td>0.418941</td>\n",
       "    </tr>\n",
       "    <tr>\n",
       "      <th>2019-05-16</th>\n",
       "      <td>4.76</td>\n",
       "      <td>4.76</td>\n",
       "      <td>4.64</td>\n",
       "      <td>3387200</td>\n",
       "      <td>-0.402154</td>\n",
       "      <td>-2.112705</td>\n",
       "      <td>-2.524008</td>\n",
       "      <td>0.859069</td>\n",
       "      <td>-1.683672</td>\n",
       "    </tr>\n",
       "    <tr>\n",
       "      <th>2019-05-17</th>\n",
       "      <td>4.68</td>\n",
       "      <td>4.72</td>\n",
       "      <td>4.62</td>\n",
       "      <td>2800400</td>\n",
       "      <td>-0.411209</td>\n",
       "      <td>-0.434034</td>\n",
       "      <td>-1.285051</td>\n",
       "      <td>-0.003000</td>\n",
       "      <td>-1.285051</td>\n",
       "    </tr>\n",
       "    <tr>\n",
       "      <th>2019-05-21</th>\n",
       "      <td>4.62</td>\n",
       "      <td>4.64</td>\n",
       "      <td>4.38</td>\n",
       "      <td>3931200</td>\n",
       "      <td>0.148000</td>\n",
       "      <td>-5.197805</td>\n",
       "      <td>-5.197805</td>\n",
       "      <td>0.910242</td>\n",
       "      <td>-4.332004</td>\n",
       "    </tr>\n",
       "    <tr>\n",
       "      <th>2019-05-22</th>\n",
       "      <td>4.42</td>\n",
       "      <td>4.44</td>\n",
       "      <td>4.10</td>\n",
       "      <td>6947600</td>\n",
       "      <td>1.019565</td>\n",
       "      <td>-6.395694</td>\n",
       "      <td>-7.242819</td>\n",
       "      <td>NaN</td>\n",
       "      <td>NaN</td>\n",
       "    </tr>\n",
       "  </tbody>\n",
       "</table>\n",
       "</div>"
      ],
      "text/plain": [
       "            Open  High  Close   Volume  Setindex_Ret  ClosetoCloseRet  \\\n",
       "Date                                                                    \n",
       "2019-05-15  4.74  4.80   4.74  4774000     -0.769353         0.420729   \n",
       "2019-05-16  4.76  4.76   4.64  3387200     -0.402154        -2.112705   \n",
       "2019-05-17  4.68  4.72   4.62  2800400     -0.411209        -0.434034   \n",
       "2019-05-21  4.62  4.64   4.38  3931200      0.148000        -5.197805   \n",
       "2019-05-22  4.42  4.44   4.10  6947600      1.019565        -6.395694   \n",
       "\n",
       "            NetSettleRet  ClosetoOpenRet  OpentoOpenRet  \n",
       "Date                                                     \n",
       "2019-05-15     -0.003000        0.418941       0.418941  \n",
       "2019-05-16     -2.524008        0.859069      -1.683672  \n",
       "2019-05-17     -1.285051       -0.003000      -1.285051  \n",
       "2019-05-21     -5.197805        0.910242      -4.332004  \n",
       "2019-05-22     -7.242819             NaN            NaN  "
      ]
     },
     "execution_count": 19,
     "metadata": {},
     "output_type": "execute_result"
    }
   ],
   "source": [
    "df.tail()"
   ]
  },
  {
   "cell_type": "code",
   "execution_count": 20,
   "metadata": {},
   "outputs": [],
   "source": [
    "volume_multiply = 2\n",
    "\n",
    "df['Vol_Sig'] = np.where(df.Volume > df.Volume.shift()*volume_multiply , 1, 0)\n",
    "df['Return_ClosetoCloseRet'] = df.Vol_Sig * df.ClosetoCloseRet.shift(-1)\n",
    "df['Return_ClosetoOpenRet'] = df.Vol_Sig * df.ClosetoOpenRet.shift(-1)\n",
    "df['Return_NetSettleRet'] = df.Vol_Sig * df.NetSettleRet.shift(-1)\n",
    "df['Return_OpentoOpenRet'] = df.Vol_Sig * df.OpentoOpenRet.shift(-1)"
   ]
  },
  {
   "cell_type": "code",
   "execution_count": 29,
   "metadata": {
    "scrolled": true
   },
   "outputs": [
    {
     "data": {
      "image/png": "[encoded data removed]",
      "text/plain": [
       "<Figure size 1080x576 with 1 Axes>"
      ]
     },
     "metadata": {
      "needs_background": "light"
     },
     "output_type": "display_data"
    }
   ],
   "source": [
    "df['Return_ClosetoCloseRet'].cumsum().plot(figsize=(15,8),legend=True, title=symbol.upper())\n",
    "df['Return_ClosetoOpenRet'].cumsum().plot(figsize=(15,8),legend=True)\n",
    "df['Return_NetSettleRet'].cumsum().plot(figsize=(15,8),legend=True)\n",
    "df['Return_OpentoOpenRet'].cumsum().plot(figsize=(15,8),legend=True)\n",
    "df['Setindex_Ret'].cumsum().plot(figsize=(15,8),legend=True)\n",
    "#df[df['Vol_Sig']>0]['Vol_Sig'].plot(figsize=(15,8),style=\"x\")\n",
    "plt.savefig('out.pdf')"
   ]
  },
  {
   "cell_type": "code",
   "execution_count": 6,
   "metadata": {},
   "outputs": [
    {
     "data": {
      "text/plain": [
       "401"
      ]
     },
     "execution_count": 6,
     "metadata": {},
     "output_type": "execute_result"
    }
   ],
   "source": [
    "df['Vol_Sig'].sum()"
   ]
  },
  {
   "cell_type": "code",
   "execution_count": null,
   "metadata": {},
   "outputs": [],
   "source": []
  }
 ],
 "metadata": {
  "kernelspec": {
   "display_name": "Python 3",
   "language": "python",
   "name": "python3"
  },
  "language_info": {
   "codemirror_mode": {
    "name": "ipython",
    "version": 3
   },
   "file_extension": ".py",
   "mimetype": "text/x-python",
   "name": "python",
   "nbconvert_exporter": "python",
   "pygments_lexer": "ipython3",
   "version": "3.6.7"
  }
 },
 "nbformat": 4,
 "nbformat_minor": 2
}
