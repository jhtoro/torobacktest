{
 "cells": [
  {
   "cell_type": "code",
   "execution_count": null,
   "metadata": {
    "scrolled": true
   },
   "outputs": [],
   "source": [
    "import pandas as pd\n",
    "import numpy as np\n",
    "import matplotlib.pyplot as plt\n",
    "%matplotlib inline\n",
    "pd.options.display.float_format = '{:,.2f}'.format\n",
    "\n",
    "\n",
    "setindex_df = pd.read_csv(data_path+\"set.csv\", index_col=\"Date\", parse_dates=True)\n",
    "Close_DF = setindex_df[['Close']]\n",
    "Close_DF.rename({'Close':'SETI'},axis=1,inplace=True)\n",
    "Return_DF = setindex_df[['Close']]\n",
    "Return_DF.rename({'Close':'SETI'},axis=1,inplace=True)\n",
    "NetSettle_DF = setindex_df[['Close']]\n",
    "NetSettle_DF.rename({'Close':'SETI'},axis=1,inplace=True)\n",
    "Volume_DF = setindex_df[['Close']]\n",
    "Volume_DF.rename({'Close':'SETI'},axis=1,inplace=True)\n",
    "\n",
    "symbol_file = open(\"set.txt\",\"r\")\n",
    "symbols = [x.strip('\\n') for x in symbol_file.readlines()]\n",
    "data_path=\"../torodata/data/\"\n",
    "for symbol in symbols:\n",
    "    if symbol == \"COM7\":\n",
    "        symbol = \"_com7\"    \n",
    "    df = pd.read_csv(data_path+symbol+\".csv\", index_col=\"Date\", parse_dates=True)\n",
    "    Close_DF = Close_DF.join(df[['Close']], on=Close_DF.index)\n",
    "    Close_DF.rename({'Close':symbol}, axis=1, inplace=True)\n",
    "    Return_DF = Return_DF.join(df[['Close']].pct_change()*100, on=Return_DF.index)\n",
    "    Return_DF.rename({'Close':symbol}, axis=1, inplace=True)\n",
    "    df['NetSettle'] = (df['Close']-df['Open'])/df['Open']*100\n",
    "    NetSettle_DF = NetSettle_DF.join(df[['NetSettle']],on=NetSettle_DF.index)\n",
    "    NetSettle_DF.rename({'NetSettle':symbol}, axis=1, inplace=True)\n",
    "    df['VolRatio']=df['Volume']/df['Volume'].shift()\n",
    "    Volume_DF = Volume_DF.join(df[['VolRatio']], on=Volume_DF.index)\n",
    "    Volume_DF.rename({'VolRatio':symbol}, axis=1, inplace=True)\n",
    "\n",
    "Close_DF.drop('SETI',axis=1,inplace=True)    \n",
    "Return_DF.drop('SETI',axis=1,inplace=True)\n",
    "NetSettle_DF.drop('SETI',axis=1,inplace=True)\n",
    "Volume_DF.drop('SETI',axis=1,inplace=True)"
   ]
  },
  {
   "cell_type": "code",
   "execution_count": null,
   "metadata": {},
   "outputs": [],
   "source": [
    "pd.options.display.float_format = '{:,.2f}'.format\n",
    "NetSettle_DF.tail()"
   ]
  },
  {
   "cell_type": "code",
   "execution_count": null,
   "metadata": {},
   "outputs": [],
   "source": [
    "total_ret = 0.0\n",
    "for i in range(10):\n",
    "    old_day = i+1\n",
    "    ret_day = old_day-1\n",
    "    sym = NetSettle_DF.iloc[-old_day].sort_values(ascending=False)[:1].index   \n",
    "    ret = (NetSettle_DF.iloc[-ret_day][sym].sum())/len(sym)\n",
    "    print(\"-%d, %s, %.2f\" % (old_day,sym, ret))\n",
    "    total_ret = total_ret + ret\n",
    "print(total_ret)"
   ]
  },
  {
   "cell_type": "code",
   "execution_count": null,
   "metadata": {
    "scrolled": false
   },
   "outputs": [],
   "source": [
    "Close_DF.iloc[-1].sort_values()[:60]"
   ]
  },
  {
   "cell_type": "code",
   "execution_count": null,
   "metadata": {},
   "outputs": [],
   "source": []
  }
 ],
 "metadata": {
  "kernelspec": {
   "display_name": "Python 3",
   "language": "python",
   "name": "python3"
  },
  "language_info": {
   "codemirror_mode": {
    "name": "ipython",
    "version": 3
   },
   "file_extension": ".py",
   "mimetype": "text/x-python",
   "name": "python",
   "nbconvert_exporter": "python",
   "pygments_lexer": "ipython3",
   "version": "3.6.7"
  }
 },
 "nbformat": 4,
 "nbformat_minor": 2
}
