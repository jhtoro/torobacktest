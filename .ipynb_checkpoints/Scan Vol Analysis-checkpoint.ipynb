{
 "cells": [
  {
   "cell_type": "code",
   "execution_count": 5,
   "metadata": {
    "scrolled": false
   },
   "outputs": [
    {
     "name": "stdout",
     "output_type": "stream",
     "text": [
      "AMANAH\n",
      "AMARIN\n",
      "ASIAN\n",
      "ASIMAR\n",
      "AYUD\n",
      "BIG\n",
      "CITY\n",
      "CSC\n",
      "EE\n",
      "EIC\n",
      "EKH\n",
      "FN\n",
      "GREEN\n",
      "ICC\n",
      "ICHI\n",
      "IFS\n",
      "JTS\n",
      "NPPG\n",
      "PL\n",
      "PRAKIT\n",
      "PRG\n",
      "RSP\n",
      "SEAFCO\n",
      "SIAM\n",
      "SMT\n",
      "SSSC\n",
      "TPOLY\n",
      "TRITN\n",
      "TWZ\n",
      "WAVE\n",
      "WIN\n"
     ]
    }
   ],
   "source": [
    "import pandas as pd\n",
    "import numpy as np\n",
    "import matplotlib.pyplot as plt\n",
    "%matplotlib inline\n",
    "symbol = \"LDC\"\n",
    "test = 0\n",
    "\n",
    "if test:\n",
    "    start = \"2010-01-01\"\n",
    "    end = \"2018-12-30\"\n",
    "else:\n",
    "    start = \"2019-01-01\"\n",
    "    end = \"2019-05-22\"\n",
    "\n",
    "#symbol_file = open(\"mai.txt\",\"r\")\n",
    "symbol_file = open(\"set_my_universe.txt\",\"r\")\n",
    "symbols = [x.strip('\\n') for x in symbol_file.readlines()]\n",
    "data_path=\"../torodata/data/\"\n",
    "volume_multiply = 2\n",
    "for symbol in symbols:\n",
    "    if symbol == \"COM7\":\n",
    "        symbol = \"_com7\"\n",
    "    df = pd.read_csv(data_path+symbol+\".csv\", index_col=\"Date\", parse_dates=True)\n",
    "    df.drop(columns=['Low','Adj Close'], inplace=True)\n",
    "    df = df[start:end]\n",
    "    df['Vol_Sig'] = np.where(df.Volume > df.Volume.shift()*volume_multiply , 1, 0)\n",
    "    if(df['Vol_Sig'].iloc[-1] == 1):\n",
    "        print(symbol)\n"
   ]
  },
  {
   "cell_type": "code",
   "execution_count": null,
   "metadata": {},
   "outputs": [],
   "source": []
  }
 ],
 "metadata": {
  "kernelspec": {
   "display_name": "Python 3",
   "language": "python",
   "name": "python3"
  },
  "language_info": {
   "codemirror_mode": {
    "name": "ipython",
    "version": 3
   },
   "file_extension": ".py",
   "mimetype": "text/x-python",
   "name": "python",
   "nbconvert_exporter": "python",
   "pygments_lexer": "ipython3",
   "version": "3.6.7"
  }
 },
 "nbformat": 4,
 "nbformat_minor": 2
}
