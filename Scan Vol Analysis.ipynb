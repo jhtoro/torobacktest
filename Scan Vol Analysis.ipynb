{
 "cells": [
  {
   "cell_type": "code",
   "execution_count": 1,
   "metadata": {
    "scrolled": false
   },
   "outputs": [
    {
     "name": "stdout",
     "output_type": "stream",
     "text": [
      "AMANAH,1.63\n",
      "AMARIN,5.00\n",
      "ASIAN,6.95\n",
      "ASIMAR,1.73\n",
      "AYUD,40.00\n",
      "BIG,1.02\n",
      "CITY,2.26\n",
      "CSC,46.00\n",
      "EE,0.50\n",
      "EKH,6.45\n",
      "FN,1.55\n",
      "GREEN,1.00\n",
      "ICC,40.25\n",
      "ICHI,4.72\n",
      "IFS,3.04\n",
      "JTS,1.32\n",
      "NPPG,1.07\n",
      "PL,3.10\n",
      "PRAKIT,11.60\n",
      "PRG,12.80\n",
      "RSP,3.50\n",
      "SEAFCO,7.25\n",
      "SIAM,2.14\n",
      "SMT,1.83\n",
      "SSSC,2.58\n",
      "TPOLY,2.70\n",
      "TRITN,0.35\n",
      "WAVE,1.82\n",
      "WIN,0.55\n"
     ]
    }
   ],
   "source": [
    "import pandas as pd\n",
    "import numpy as np\n",
    "import matplotlib.pyplot as plt\n",
    "%matplotlib inline\n",
    "symbol = \"LDC\"\n",
    "test = 0\n",
    "\n",
    "if test:\n",
    "    start = \"2010-01-01\"\n",
    "    end = \"2018-12-30\"\n",
    "else:\n",
    "    start = \"2019-01-01\"\n",
    "    end = \"2019-05-22\"\n",
    "\n",
    "#symbol_file = open(\"mai.txt\",\"r\")\n",
    "symbol_file = open(\"set_my_universe.txt\",\"r\")\n",
    "symbols = [x.strip('\\n') for x in symbol_file.readlines()]\n",
    "data_path=\"../torodata/data/\"\n",
    "volume_multiply = 2\n",
    "for symbol in symbols:\n",
    "    if symbol == \"COM7\":\n",
    "        symbol = \"_com7\"\n",
    "    df = pd.read_csv(data_path+symbol+\".csv\", index_col=\"Date\", parse_dates=True)\n",
    "    df.drop(columns=['Low','Adj Close'], inplace=True)\n",
    "    df = df[start:end]\n",
    "    df['Vol_Sig'] = np.where(df.Volume > df.Volume.shift()*volume_multiply , 1, 0)\n",
    "    if(df['Vol_Sig'].iloc[-1] == 1):\n",
    "        print(\"%s,%.2f\" % (symbol, df['Close'].iloc[-1]))\n"
   ]
  },
  {
   "cell_type": "code",
   "execution_count": null,
   "metadata": {},
   "outputs": [],
   "source": []
  }
 ],
 "metadata": {
  "kernelspec": {
   "display_name": "Python 3",
   "language": "python",
   "name": "python3"
  },
  "language_info": {
   "codemirror_mode": {
    "name": "ipython",
    "version": 3
   },
   "file_extension": ".py",
   "mimetype": "text/x-python",
   "name": "python",
   "nbconvert_exporter": "python",
   "pygments_lexer": "ipython3",
   "version": "3.6.7"
  }
 },
 "nbformat": 4,
 "nbformat_minor": 2
}
